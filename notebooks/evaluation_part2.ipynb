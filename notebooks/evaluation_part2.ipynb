{
 "cells": [
  {
   "cell_type": "markdown",
   "metadata": {},
   "source": [
    "# Case study"
   ]
  },
  {
   "cell_type": "markdown",
   "metadata": {},
   "source": [
    "This notebook reproduces the analysis of Section 4.2.5.\n",
    "\n",
    "### Setup\n",
    "Follow the instructions `README.md` to download and setup the data files."
   ]
  },
  {
   "cell_type": "code",
   "execution_count": 1,
   "metadata": {},
   "outputs": [],
   "source": [
    "%matplotlib inline\n",
    "import json\n",
    "import os\n",
    "import pandas as pd\n",
    "import numpy as np\n",
    "import seaborn as sns\n",
    "import matplotlib.pyplot as plt\n",
    "sns.set(style=\"whitegrid\")\n",
    "plt.rcParams['figure.figsize'] = (10,10)"
   ]
  },
  {
   "cell_type": "code",
   "execution_count": 2,
   "metadata": {},
   "outputs": [],
   "source": [
    "def load_result(file_path):\n",
    "    with open(file_path) as f:\n",
    "        return json.load(f)"
   ]
  },
  {
   "cell_type": "code",
   "execution_count": 3,
   "metadata": {},
   "outputs": [],
   "source": [
    "get_qm = lambda r, qm='matthews_corr': r['al_history']['mvhistory'][qm]['values']"
   ]
  },
  {
   "cell_type": "markdown",
   "metadata": {},
   "source": [
    "## Load files"
   ]
  },
  {
   "cell_type": "markdown",
   "metadata": {},
   "source": [
    "Load summary result file."
   ]
  },
  {
   "cell_type": "code",
   "execution_count": 4,
   "metadata": {},
   "outputs": [],
   "source": [
    "data_path = '../data/output/evaluation_part2/Sf-Pn-3f-2000n-5p/results/'"
   ]
  },
  {
   "cell_type": "code",
   "execution_count": 5,
   "metadata": {},
   "outputs": [
    {
     "data": {
      "text/html": [
       "<div>\n",
       "<style scoped>\n",
       "    .dataframe tbody tr th:only-of-type {\n",
       "        vertical-align: middle;\n",
       "    }\n",
       "\n",
       "    .dataframe tbody tr th {\n",
       "        vertical-align: top;\n",
       "    }\n",
       "\n",
       "    .dataframe thead th {\n",
       "        text-align: right;\n",
       "    }\n",
       "</style>\n",
       "<table border=\"1\" class=\"dataframe\">\n",
       "  <thead>\n",
       "    <tr style=\"text-align: right;\">\n",
       "      <th></th>\n",
       "      <th>id</th>\n",
       "      <th>file_name</th>\n",
       "      <th>data_set</th>\n",
       "      <th>split_strategy</th>\n",
       "      <th>initial_pool_strategy</th>\n",
       "      <th>initial_pool_resample_version</th>\n",
       "      <th>model</th>\n",
       "      <th>init_strategy</th>\n",
       "      <th>qs</th>\n",
       "      <th>num_points</th>\n",
       "      <th>...</th>\n",
       "      <th>pauc_maximum</th>\n",
       "      <th>pauc_ramp_up</th>\n",
       "      <th>pauc_quality_range</th>\n",
       "      <th>pauc_total_quality_range</th>\n",
       "      <th>pauc_average_end_quality</th>\n",
       "      <th>pauc_average_quality_change</th>\n",
       "      <th>pauc_average_gain</th>\n",
       "      <th>pauc_average_loss</th>\n",
       "      <th>pauc_learning_stability</th>\n",
       "      <th>pauc_ratio_of_outlier_queries</th>\n",
       "    </tr>\n",
       "  </thead>\n",
       "  <tbody>\n",
       "    <tr>\n",
       "      <th>0</th>\n",
       "      <td>158409497023521930</td>\n",
       "      <td>/home/cornelia/data/input/processed/Stamps/Sta...</td>\n",
       "      <td>Stamps</td>\n",
       "      <td>Sf</td>\n",
       "      <td>Pn</td>\n",
       "      <td>4.0</td>\n",
       "      <td>SVDDneg</td>\n",
       "      <td>Thumb_Tax</td>\n",
       "      <td>DecisionBoundaryQs</td>\n",
       "      <td>325.0</td>\n",
       "      <td>...</td>\n",
       "      <td>0.935897</td>\n",
       "      <td>0.007157</td>\n",
       "      <td>0.108601</td>\n",
       "      <td>0.249461</td>\n",
       "      <td>0.935897</td>\n",
       "      <td>0.001086</td>\n",
       "      <td>0.049495</td>\n",
       "      <td>-0.031394</td>\n",
       "      <td>0.900532</td>\n",
       "      <td>0.13</td>\n",
       "    </tr>\n",
       "    <tr>\n",
       "      <th>1</th>\n",
       "      <td>7729919105981329866</td>\n",
       "      <td>/home/cornelia/data/input/processed/Stamps/Sta...</td>\n",
       "      <td>Stamps</td>\n",
       "      <td>Sf</td>\n",
       "      <td>Pn</td>\n",
       "      <td>4.0</td>\n",
       "      <td>SVDDneg</td>\n",
       "      <td>Thumb_Tax</td>\n",
       "      <td>NeighborhoodBasedQs</td>\n",
       "      <td>325.0</td>\n",
       "      <td>...</td>\n",
       "      <td>0.967949</td>\n",
       "      <td>-0.211912</td>\n",
       "      <td>0.140652</td>\n",
       "      <td>0.352564</td>\n",
       "      <td>0.967949</td>\n",
       "      <td>0.001407</td>\n",
       "      <td>0.043092</td>\n",
       "      <td>-0.061795</td>\n",
       "      <td>2.754546</td>\n",
       "      <td>0.14</td>\n",
       "    </tr>\n",
       "  </tbody>\n",
       "</table>\n",
       "<p>2 rows × 75 columns</p>\n",
       "</div>"
      ],
      "text/plain": [
       "                    id                                          file_name  \\\n",
       "0   158409497023521930  /home/cornelia/data/input/processed/Stamps/Sta...   \n",
       "1  7729919105981329866  /home/cornelia/data/input/processed/Stamps/Sta...   \n",
       "\n",
       "  data_set split_strategy initial_pool_strategy  \\\n",
       "0   Stamps             Sf                    Pn   \n",
       "1   Stamps             Sf                    Pn   \n",
       "\n",
       "   initial_pool_resample_version    model init_strategy                   qs  \\\n",
       "0                            4.0  SVDDneg     Thumb_Tax   DecisionBoundaryQs   \n",
       "1                            4.0  SVDDneg     Thumb_Tax  NeighborhoodBasedQs   \n",
       "\n",
       "   num_points              ...                pauc_maximum pauc_ramp_up  \\\n",
       "0       325.0              ...                    0.935897     0.007157   \n",
       "1       325.0              ...                    0.967949    -0.211912   \n",
       "\n",
       "   pauc_quality_range  pauc_total_quality_range  pauc_average_end_quality  \\\n",
       "0            0.108601                  0.249461                  0.935897   \n",
       "1            0.140652                  0.352564                  0.967949   \n",
       "\n",
       "   pauc_average_quality_change  pauc_average_gain  pauc_average_loss  \\\n",
       "0                     0.001086           0.049495          -0.031394   \n",
       "1                     0.001407           0.043092          -0.061795   \n",
       "\n",
       "   pauc_learning_stability  pauc_ratio_of_outlier_queries  \n",
       "0                 0.900532                           0.13  \n",
       "1                 2.754546                           0.14  \n",
       "\n",
       "[2 rows x 75 columns]"
      ]
     },
     "execution_count": 5,
     "metadata": {},
     "output_type": "execute_result"
    }
   ],
   "source": [
    "df = pd.read_csv('../data/output/evaluation_part2/evaluation_part2.csv')\n",
    "df = df.query('id in [7729919105981329866, 158409497023521930]').reset_index(drop=True)\n",
    "df"
   ]
  },
  {
   "cell_type": "markdown",
   "metadata": {},
   "source": [
    "Load raw result `.json` files for the selected experiments."
   ]
  },
  {
   "cell_type": "code",
   "execution_count": 6,
   "metadata": {},
   "outputs": [],
   "source": [
    "f1 = data_path + '/'.join(df.iloc[0, 1].split('/')[-2:]).replace('.csv', '') + '_' + str(df.iloc[0, 8]) + '_SVDDneg_' + str(df.iloc[0, 0]) + '.json'\n",
    "f2 = data_path + '/'.join(df.iloc[1, 1].split('/')[-2:]).replace('.csv', '') + '_' + str(df.iloc[1, 8]) + '_SVDDneg_' + str(df.iloc[1, 0]) + '.json'"
   ]
  },
  {
   "cell_type": "code",
   "execution_count": 7,
   "metadata": {
    "scrolled": false
   },
   "outputs": [],
   "source": [
    "v1 = get_qm(load_result(f1))\n",
    "v2 = get_qm(load_result(f2))"
   ]
  },
  {
   "cell_type": "markdown",
   "metadata": {},
   "source": [
    "## Analysis"
   ]
  },
  {
   "cell_type": "code",
   "execution_count": 8,
   "metadata": {},
   "outputs": [],
   "source": [
    "data = pd.DataFrame(np.c_[v1, v2], columns=['τ_DB', 'τ_NB'])"
   ]
  },
  {
   "cell_type": "code",
   "execution_count": 9,
   "metadata": {},
   "outputs": [
    {
     "data": {
      "image/png": "[encoded data removed]",
      "text/plain": [
       "<Figure size 864x360 with 1 Axes>"
      ]
     },
     "metadata": {},
     "output_type": "display_data"
    }
   ],
   "source": [
    "font_scale=2.0\n",
    "sns.set_context(\"notebook\", font_scale=font_scale)\n",
    "fig, ax = plt.subplots()\n",
    "_ = fig.set_size_inches((12, 5))\n",
    "ax.axvline(x=50, color='k', linestyle='--', alpha=0.5)\n",
    "sns.lineplot(data=data, linewidth=3, ax=ax)\n",
    "ax.set_xlim(0, 100)\n",
    "ax.set_ylim(0, 1)\n",
    "ax.set_xlabel(\"Iteration\")\n",
    "ax.set_ylabel(\"MCC\")\n",
    "plt.legend(loc='lower right')\n",
    "fig.tight_layout()\n",
    "fig.savefig('../plots/eval_p2_progress_curve_example.pdf')"
   ]
  },
  {
   "cell_type": "markdown",
   "metadata": {},
   "source": [
    "Show the summary of the active-learning curves."
   ]
  },
  {
   "cell_type": "code",
   "execution_count": 10,
   "metadata": {
    "scrolled": true
   },
   "outputs": [
    {
     "data": {
      "text/html": [
       "<div>\n",
       "<style scoped>\n",
       "    .dataframe tbody tr th:only-of-type {\n",
       "        vertical-align: middle;\n",
       "    }\n",
       "\n",
       "    .dataframe tbody tr th {\n",
       "        vertical-align: top;\n",
       "    }\n",
       "\n",
       "    .dataframe thead th {\n",
       "        text-align: right;\n",
       "    }\n",
       "</style>\n",
       "<table border=\"1\" class=\"dataframe\">\n",
       "  <thead>\n",
       "    <tr style=\"text-align: right;\">\n",
       "      <th></th>\n",
       "      <th>m_start_quality</th>\n",
       "      <th>m_end_quality</th>\n",
       "      <th>m_maximum</th>\n",
       "      <th>m_ramp_up</th>\n",
       "      <th>m_quality_range</th>\n",
       "      <th>m_total_quality_range</th>\n",
       "      <th>m_average_end_quality</th>\n",
       "      <th>m_average_quality_change</th>\n",
       "      <th>m_average_gain</th>\n",
       "      <th>m_average_loss</th>\n",
       "      <th>m_learning_stability</th>\n",
       "      <th>m_ratio_of_outlier_queries</th>\n",
       "    </tr>\n",
       "  </thead>\n",
       "  <tbody>\n",
       "    <tr>\n",
       "      <th>0</th>\n",
       "      <td>0.24</td>\n",
       "      <td>0.93</td>\n",
       "      <td>0.93</td>\n",
       "      <td>0.31</td>\n",
       "      <td>0.69</td>\n",
       "      <td>0.69</td>\n",
       "      <td>0.93</td>\n",
       "      <td>0.01</td>\n",
       "      <td>0.07</td>\n",
       "      <td>0.0</td>\n",
       "      <td>0.37</td>\n",
       "      <td>0.13</td>\n",
       "    </tr>\n",
       "    <tr>\n",
       "      <th>1</th>\n",
       "      <td>0.24</td>\n",
       "      <td>0.97</td>\n",
       "      <td>0.97</td>\n",
       "      <td>0.10</td>\n",
       "      <td>0.72</td>\n",
       "      <td>0.72</td>\n",
       "      <td>0.97</td>\n",
       "      <td>0.01</td>\n",
       "      <td>0.06</td>\n",
       "      <td>0.0</td>\n",
       "      <td>0.94</td>\n",
       "      <td>0.14</td>\n",
       "    </tr>\n",
       "  </tbody>\n",
       "</table>\n",
       "</div>"
      ],
      "text/plain": [
       "   m_start_quality  m_end_quality  m_maximum  m_ramp_up  m_quality_range  \\\n",
       "0             0.24           0.93       0.93       0.31             0.69   \n",
       "1             0.24           0.97       0.97       0.10             0.72   \n",
       "\n",
       "   m_total_quality_range  m_average_end_quality  m_average_quality_change  \\\n",
       "0                   0.69                   0.93                      0.01   \n",
       "1                   0.72                   0.97                      0.01   \n",
       "\n",
       "   m_average_gain  m_average_loss  m_learning_stability  \\\n",
       "0            0.07             0.0                  0.37   \n",
       "1            0.06             0.0                  0.94   \n",
       "\n",
       "   m_ratio_of_outlier_queries  \n",
       "0                        0.13  \n",
       "1                        0.14  "
      ]
     },
     "execution_count": 10,
     "metadata": {},
     "output_type": "execute_result"
    }
   ],
   "source": [
    "df[['m_start_quality', 'm_end_quality', 'm_maximum', 'm_ramp_up', 'm_quality_range', 'm_total_quality_range',\n",
    "       'm_average_end_quality', 'm_average_quality_change', 'm_average_gain',\n",
    "       'm_average_loss', 'm_learning_stability', 'm_ratio_of_outlier_queries']].round(2)"
   ]
  },
  {
   "cell_type": "markdown",
   "metadata": {},
   "source": [
    "Inspect the step-wise learning stability."
   ]
  },
  {
   "cell_type": "code",
   "execution_count": 11,
   "metadata": {},
   "outputs": [],
   "source": [
    "k = 10\n",
    "end = 100"
   ]
  },
  {
   "cell_type": "code",
   "execution_count": 12,
   "metadata": {},
   "outputs": [],
   "source": [
    "v1 = np.array(v1)\n",
    "v2 = np.array(v2)"
   ]
  },
  {
   "cell_type": "code",
   "execution_count": 13,
   "metadata": {},
   "outputs": [],
   "source": [
    "diff1 = v1[k:end + 1] - v1[:end-k+1]\n",
    "diff2 = v2[k:end + 1] - v2[:end-k+1]\n",
    "qr_tot1 = v1[k:end + 1] - v1[0]\n",
    "qr_tot2 = v2[k:end + 1] - v2[0]\n",
    "ls1 = [diff1[i] / k / (qr_tot1[i] / (i + k)) if qr_tot1[i] != 0 else 0.0 for i in range(end - k + 1)]\n",
    "ls2 = [diff2[i] / k / (qr_tot2[i] / (i + k)) if qr_tot2[i] != 0 else 0.0 for i in range(end - k + 1)]"
   ]
  },
  {
   "cell_type": "code",
   "execution_count": 14,
   "metadata": {},
   "outputs": [],
   "source": [
    "data = pd.DataFrame(np.c_[ls1, ls2], columns=['τ_DB', 'τ_NB'])\n",
    "data.index += k"
   ]
  },
  {
   "cell_type": "code",
   "execution_count": 15,
   "metadata": {},
   "outputs": [
    {
     "data": {
      "image/png": "[encoded data removed]",
      "text/plain": [
       "<Figure size 864x360 with 1 Axes>"
      ]
     },
     "metadata": {},
     "output_type": "display_data"
    }
   ],
   "source": [
    "font_scale=2.0\n",
    "sns.set_context(\"notebook\", font_scale=font_scale)\n",
    "fig, ax = plt.subplots()\n",
    "_ = fig.set_size_inches((12, 5))\n",
    "sns.lineplot(data=data, linewidth=3, ax=ax)\n",
    "ax.axvline(x=50, color='k', linestyle='--', alpha=0.5)\n",
    "ax.set_xlabel(\"Iteration\")\n",
    "ax.set_ylabel(\"LS\")\n",
    "fig.tight_layout()"
   ]
  }
 ],
 "metadata": {
  "kernelspec": {
   "display_name": "Python 3",
   "language": "python",
   "name": "python3"
  },
  "language_info": {
   "codemirror_mode": {
    "name": "ipython",
    "version": 3
   },
   "file_extension": ".py",
   "mimetype": "text/x-python",
   "name": "python",
   "nbconvert_exporter": "python",
   "pygments_lexer": "ipython3",
   "version": "3.6.6"
  }
 },
 "nbformat": 4,
 "nbformat_minor": 2
}
