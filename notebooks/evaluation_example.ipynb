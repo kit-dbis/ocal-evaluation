{
 "cells": [
  {
   "cell_type": "markdown",
   "metadata": {},
   "source": [
    "# Evaluation Example"
   ]
  },
  {
   "cell_type": "markdown",
   "metadata": {},
   "source": [
    "This notebook reproduces the analysis at the start of Section 4.\n",
    "\n",
    "### Setup\n",
    "Follow the instructions `README.md` to download and setup the data files."
   ]
  },
  {
   "cell_type": "code",
   "execution_count": 1,
   "metadata": {},
   "outputs": [],
   "source": [
    "%matplotlib inline\n",
    "import json\n",
    "import os\n",
    "import pandas as pd\n",
    "import numpy as np\n",
    "import seaborn as sns\n",
    "import matplotlib.pyplot as plt\n",
    "sns.set(style=\"whitegrid\")\n",
    "plt.rcParams['figure.figsize'] = (10,10)"
   ]
  },
  {
   "cell_type": "code",
   "execution_count": 2,
   "metadata": {},
   "outputs": [],
   "source": [
    "def load_result(file_path):\n",
    "    with open(file_path) as f:\n",
    "        return json.load(f)"
   ]
  },
  {
   "cell_type": "code",
   "execution_count": 3,
   "metadata": {},
   "outputs": [],
   "source": [
    "get_qm = lambda r, qm='matthews_corr': r['al_history']['mvhistory'][qm]['values']"
   ]
  },
  {
   "cell_type": "markdown",
   "metadata": {},
   "source": [
    "## Load files"
   ]
  },
  {
   "cell_type": "markdown",
   "metadata": {},
   "source": [
    "Load summary result file."
   ]
  },
  {
   "cell_type": "code",
   "execution_count": 4,
   "metadata": {},
   "outputs": [],
   "source": [
    "data_path = '../data/output/evaluation_part2/results/'"
   ]
  },
  {
   "cell_type": "code",
   "execution_count": 5,
   "metadata": {},
   "outputs": [
    {
     "data": {
      "text/html": [
       "<div>\n",
       "<style scoped>\n",
       "    .dataframe tbody tr th:only-of-type {\n",
       "        vertical-align: middle;\n",
       "    }\n",
       "\n",
       "    .dataframe tbody tr th {\n",
       "        vertical-align: top;\n",
       "    }\n",
       "\n",
       "    .dataframe thead th {\n",
       "        text-align: right;\n",
       "    }\n",
       "</style>\n",
       "<table border=\"1\" class=\"dataframe\">\n",
       "  <thead>\n",
       "    <tr style=\"text-align: right;\">\n",
       "      <th></th>\n",
       "      <th>scenario</th>\n",
       "      <th>id</th>\n",
       "      <th>file_name</th>\n",
       "      <th>data_set</th>\n",
       "      <th>split_strategy</th>\n",
       "      <th>initial_pool_strategy</th>\n",
       "      <th>initial_pool_resample_version</th>\n",
       "      <th>initial_pool_num_labeled</th>\n",
       "      <th>model</th>\n",
       "      <th>init_strategy_C</th>\n",
       "      <th>...</th>\n",
       "      <th>pauc_average_gain</th>\n",
       "      <th>pauc_average_loss</th>\n",
       "      <th>pauc_learning_stability</th>\n",
       "      <th>pauc_ratio_of_outlier_queries</th>\n",
       "      <th>pauc_aulc</th>\n",
       "      <th>pauc_reyes_paulc</th>\n",
       "      <th>pauc_reyes_naulc</th>\n",
       "      <th>pauc_reyes_tpr</th>\n",
       "      <th>pauc_reyes_tnr</th>\n",
       "      <th>pauc_reyes_tp</th>\n",
       "    </tr>\n",
       "  </thead>\n",
       "  <tbody>\n",
       "    <tr>\n",
       "      <th>0</th>\n",
       "      <td>evaluation_part2</td>\n",
       "      <td>3188985034216692765</td>\n",
       "      <td>Arrhythmia_withoutdupl_norm_05_v03_r01.csv</td>\n",
       "      <td>Arrhythmia</td>\n",
       "      <td>Sf</td>\n",
       "      <td>Pu</td>\n",
       "      <td>3</td>\n",
       "      <td>0</td>\n",
       "      <td>SVDDneg</td>\n",
       "      <td>TaxBound</td>\n",
       "      <td>...</td>\n",
       "      <td>0.040486</td>\n",
       "      <td>0.000000e+00</td>\n",
       "      <td>0.902184</td>\n",
       "      <td>0.09</td>\n",
       "      <td>70.535313</td>\n",
       "      <td>6.145749</td>\n",
       "      <td>64.389564</td>\n",
       "      <td>0.364372</td>\n",
       "      <td>0.000000e+00</td>\n",
       "      <td>2.239342</td>\n",
       "    </tr>\n",
       "    <tr>\n",
       "      <th>1</th>\n",
       "      <td>evaluation_part2</td>\n",
       "      <td>14433445756144791964</td>\n",
       "      <td>Arrhythmia_withoutdupl_norm_05_v03_r01.csv</td>\n",
       "      <td>Arrhythmia</td>\n",
       "      <td>Sf</td>\n",
       "      <td>Pu</td>\n",
       "      <td>3</td>\n",
       "      <td>0</td>\n",
       "      <td>SVDDneg</td>\n",
       "      <td>TaxBound</td>\n",
       "      <td>...</td>\n",
       "      <td>0.032051</td>\n",
       "      <td>-1.110223e-16</td>\n",
       "      <td>1.098901</td>\n",
       "      <td>0.07</td>\n",
       "      <td>71.474359</td>\n",
       "      <td>2.824786</td>\n",
       "      <td>68.649573</td>\n",
       "      <td>0.128205</td>\n",
       "      <td>-1.110223e-16</td>\n",
       "      <td>0.362152</td>\n",
       "    </tr>\n",
       "  </tbody>\n",
       "</table>\n",
       "<p>2 rows × 101 columns</p>\n",
       "</div>"
      ],
      "text/plain": [
       "           scenario                    id  \\\n",
       "0  evaluation_part2   3188985034216692765   \n",
       "1  evaluation_part2  14433445756144791964   \n",
       "\n",
       "                                    file_name    data_set split_strategy  \\\n",
       "0  Arrhythmia_withoutdupl_norm_05_v03_r01.csv  Arrhythmia             Sf   \n",
       "1  Arrhythmia_withoutdupl_norm_05_v03_r01.csv  Arrhythmia             Sf   \n",
       "\n",
       "  initial_pool_strategy  initial_pool_resample_version  \\\n",
       "0                    Pu                              3   \n",
       "1                    Pu                              3   \n",
       "\n",
       "   initial_pool_num_labeled    model init_strategy_C      ...        \\\n",
       "0                         0  SVDDneg        TaxBound      ...         \n",
       "1                         0  SVDDneg        TaxBound      ...         \n",
       "\n",
       "  pauc_average_gain  pauc_average_loss pauc_learning_stability  \\\n",
       "0          0.040486       0.000000e+00                0.902184   \n",
       "1          0.032051      -1.110223e-16                1.098901   \n",
       "\n",
       "   pauc_ratio_of_outlier_queries  pauc_aulc  pauc_reyes_paulc  \\\n",
       "0                           0.09  70.535313          6.145749   \n",
       "1                           0.07  71.474359          2.824786   \n",
       "\n",
       "  pauc_reyes_naulc  pauc_reyes_tpr  pauc_reyes_tnr  pauc_reyes_tp  \n",
       "0        64.389564        0.364372    0.000000e+00       2.239342  \n",
       "1        68.649573        0.128205   -1.110223e-16       0.362152  \n",
       "\n",
       "[2 rows x 101 columns]"
      ]
     },
     "execution_count": 5,
     "metadata": {},
     "output_type": "execute_result"
    }
   ],
   "source": [
    "id_a, id_b = 3188985034216692765, 14433445756144791964\n",
    "df = pd.read_csv('../data/output/output.csv')\n",
    "df = df.query('id in [@id_a, @id_b]').reset_index(drop=True)\n",
    "df"
   ]
  },
  {
   "cell_type": "code",
   "execution_count": 6,
   "metadata": {},
   "outputs": [],
   "source": [
    "def build_path(id):\n",
    "    data = df.query('id == @id')[['file_name', 'qs', 'model']].values[0]\n",
    "    s = '/'.join([data[0].split('_')[0], data[0].split('.')[0]])\n",
    "    s += '_' + '_'.join(data[1:])\n",
    "    s += f'_{id}.json'\n",
    "    return s"
   ]
  },
  {
   "cell_type": "markdown",
   "metadata": {},
   "source": [
    "Load raw result `.json` files for the selected experiments."
   ]
  },
  {
   "cell_type": "code",
   "execution_count": 7,
   "metadata": {},
   "outputs": [],
   "source": [
    "f1 = data_path + build_path(id_a)\n",
    "f2 = data_path + build_path(id_b)"
   ]
  },
  {
   "cell_type": "code",
   "execution_count": 8,
   "metadata": {
    "scrolled": false
   },
   "outputs": [],
   "source": [
    "v1 = get_qm(load_result(f1))\n",
    "v2 = get_qm(load_result(f2))"
   ]
  },
  {
   "cell_type": "markdown",
   "metadata": {},
   "source": [
    "## Analysis"
   ]
  },
  {
   "cell_type": "code",
   "execution_count": 9,
   "metadata": {},
   "outputs": [],
   "source": [
    "data = pd.DataFrame(np.c_[v1, v2], columns=['τ_HC', 'τ_NB'])"
   ]
  },
  {
   "cell_type": "code",
   "execution_count": 10,
   "metadata": {},
   "outputs": [
    {
     "data": {
      "image/png": "[encoded data removed]",
      "text/plain": [
       "<Figure size 864x360 with 1 Axes>"
      ]
     },
     "metadata": {
      "needs_background": "light"
     },
     "output_type": "display_data"
    }
   ],
   "source": [
    "font_scale=2.0\n",
    "sns.set_context(\"notebook\", font_scale=font_scale)\n",
    "fig, ax = plt.subplots()\n",
    "_ = fig.set_size_inches((12, 5))\n",
    "ax.axvline(x=50, color='k', linestyle='--', alpha=0.5)\n",
    "sns.lineplot(data=data, linewidth=3, ax=ax)\n",
    "ax.set_xlim(0, 100)\n",
    "ax.set_ylim(0, 1)\n",
    "ax.set_xlabel(\"Iteration\")\n",
    "ax.set_ylabel(\"MCC\")\n",
    "plt.legend(loc='lower right')\n",
    "fig.tight_layout()\n",
    "fig.savefig('../plots/eval_example_progress_curve.pdf')"
   ]
  },
  {
   "cell_type": "markdown",
   "metadata": {},
   "source": [
    "Show the summary of the active-learning curves."
   ]
  },
  {
   "cell_type": "code",
   "execution_count": 11,
   "metadata": {
    "scrolled": true
   },
   "outputs": [
    {
     "data": {
      "text/html": [
       "<div>\n",
       "<style scoped>\n",
       "    .dataframe tbody tr th:only-of-type {\n",
       "        vertical-align: middle;\n",
       "    }\n",
       "\n",
       "    .dataframe tbody tr th {\n",
       "        vertical-align: top;\n",
       "    }\n",
       "\n",
       "    .dataframe thead th {\n",
       "        text-align: right;\n",
       "    }\n",
       "</style>\n",
       "<table border=\"1\" class=\"dataframe\">\n",
       "  <thead>\n",
       "    <tr style=\"text-align: right;\">\n",
       "      <th></th>\n",
       "      <th>qs</th>\n",
       "      <th>m_start_quality</th>\n",
       "      <th>m_end_quality</th>\n",
       "      <th>m_maximum</th>\n",
       "      <th>m_ramp_up</th>\n",
       "      <th>m_quality_range</th>\n",
       "      <th>m_total_quality_range</th>\n",
       "      <th>m_average_end_quality</th>\n",
       "      <th>m_average_quality_change</th>\n",
       "      <th>m_average_gain</th>\n",
       "      <th>m_average_loss</th>\n",
       "      <th>m_learning_stability</th>\n",
       "      <th>m_ratio_of_outlier_queries</th>\n",
       "    </tr>\n",
       "  </thead>\n",
       "  <tbody>\n",
       "    <tr>\n",
       "      <th>0</th>\n",
       "      <td>HighConfidencePQs</td>\n",
       "      <td>0.0</td>\n",
       "      <td>0.86</td>\n",
       "      <td>0.86</td>\n",
       "      <td>0.00</td>\n",
       "      <td>0.86</td>\n",
       "      <td>0.86</td>\n",
       "      <td>0.86</td>\n",
       "      <td>0.01</td>\n",
       "      <td>0.10</td>\n",
       "      <td>0.0</td>\n",
       "      <td>0.59</td>\n",
       "      <td>0.09</td>\n",
       "    </tr>\n",
       "    <tr>\n",
       "      <th>1</th>\n",
       "      <td>NeighborhoodBasedPQs</td>\n",
       "      <td>0.0</td>\n",
       "      <td>0.70</td>\n",
       "      <td>0.70</td>\n",
       "      <td>0.57</td>\n",
       "      <td>0.70</td>\n",
       "      <td>0.70</td>\n",
       "      <td>0.70</td>\n",
       "      <td>0.01</td>\n",
       "      <td>0.12</td>\n",
       "      <td>0.0</td>\n",
       "      <td>0.21</td>\n",
       "      <td>0.07</td>\n",
       "    </tr>\n",
       "  </tbody>\n",
       "</table>\n",
       "</div>"
      ],
      "text/plain": [
       "                     qs  m_start_quality  m_end_quality  m_maximum  m_ramp_up  \\\n",
       "0     HighConfidencePQs              0.0           0.86       0.86       0.00   \n",
       "1  NeighborhoodBasedPQs              0.0           0.70       0.70       0.57   \n",
       "\n",
       "   m_quality_range  m_total_quality_range  m_average_end_quality  \\\n",
       "0             0.86                   0.86                   0.86   \n",
       "1             0.70                   0.70                   0.70   \n",
       "\n",
       "   m_average_quality_change  m_average_gain  m_average_loss  \\\n",
       "0                      0.01            0.10             0.0   \n",
       "1                      0.01            0.12             0.0   \n",
       "\n",
       "   m_learning_stability  m_ratio_of_outlier_queries  \n",
       "0                  0.59                        0.09  \n",
       "1                  0.21                        0.07  "
      ]
     },
     "execution_count": 11,
     "metadata": {},
     "output_type": "execute_result"
    }
   ],
   "source": [
    "df[['qs', 'm_start_quality', 'm_end_quality', 'm_maximum', 'm_ramp_up', 'm_quality_range', 'm_total_quality_range',\n",
    "       'm_average_end_quality', 'm_average_quality_change', 'm_average_gain',\n",
    "       'm_average_loss', 'm_learning_stability', 'm_ratio_of_outlier_queries']].round(2)"
   ]
  },
  {
   "cell_type": "markdown",
   "metadata": {},
   "source": [
    "Inspect the step-wise learning stability."
   ]
  },
  {
   "cell_type": "code",
   "execution_count": 12,
   "metadata": {},
   "outputs": [],
   "source": [
    "k = 10\n",
    "end = 100"
   ]
  },
  {
   "cell_type": "code",
   "execution_count": 13,
   "metadata": {},
   "outputs": [],
   "source": [
    "v1 = np.array(v1)\n",
    "v2 = np.array(v2)"
   ]
  },
  {
   "cell_type": "code",
   "execution_count": 14,
   "metadata": {},
   "outputs": [],
   "source": [
    "diff1 = v1[k:end + 1] - v1[:end-k+1]\n",
    "diff2 = v2[k:end + 1] - v2[:end-k+1]\n",
    "qr_tot1 = v1[k:end + 1] - v1[0]\n",
    "qr_tot2 = v2[k:end + 1] - v2[0]\n",
    "ls1 = [diff1[i] / k / (qr_tot1[i] / (i + k)) if qr_tot1[i] != 0 else 0.0 for i in range(end - k + 1)]\n",
    "ls2 = [diff2[i] / k / (qr_tot2[i] / (i + k)) if qr_tot2[i] != 0 else 0.0 for i in range(end - k + 1)]"
   ]
  },
  {
   "cell_type": "code",
   "execution_count": 15,
   "metadata": {},
   "outputs": [],
   "source": [
    "data = pd.DataFrame(np.c_[ls1, ls2], columns=['τ_HC', 'τ_NB'])\n",
    "data.index += k"
   ]
  },
  {
   "cell_type": "code",
   "execution_count": 16,
   "metadata": {},
   "outputs": [
    {
     "data": {
      "image/png": "[encoded data removed]",
      "text/plain": [
       "<Figure size 864x360 with 1 Axes>"
      ]
     },
     "metadata": {
      "needs_background": "light"
     },
     "output_type": "display_data"
    }
   ],
   "source": [
    "font_scale=2.0\n",
    "sns.set_context(\"notebook\", font_scale=font_scale)\n",
    "fig, ax = plt.subplots()\n",
    "_ = fig.set_size_inches((12, 5))\n",
    "sns.lineplot(data=data, linewidth=3, ax=ax)\n",
    "ax.axvline(x=50, color='k', linestyle='--', alpha=0.5)\n",
    "ax.set_xlabel(\"Iteration\")\n",
    "ax.set_ylabel(\"LS\")\n",
    "fig.tight_layout()"
   ]
  }
 ],
 "metadata": {
  "@webio": {
   "lastCommId": null,
   "lastKernelId": null
  },
  "kernelspec": {
   "display_name": "Python 3",
   "language": "python",
   "name": "python3"
  },
  "language_info": {
   "codemirror_mode": {
    "name": "ipython",
    "version": 3
   },
   "file_extension": ".py",
   "mimetype": "text/x-python",
   "name": "python",
   "nbconvert_exporter": "python",
   "pygments_lexer": "ipython3",
   "version": "3.7.2"
  }
 },
 "nbformat": 4,
 "nbformat_minor": 2
}
